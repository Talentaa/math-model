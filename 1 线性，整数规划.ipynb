{
 "cells": [
  {
   "cell_type": "markdown",
   "metadata": {},
   "source": [
    "# 例1 线性\n",
    "![title](pic/1.1.png)"
   ]
  },
  {
   "cell_type": "code",
   "execution_count": 2,
   "metadata": {},
   "outputs": [
    {
     "name": "stdout",
     "output_type": "stream",
     "text": [
      "目标函数的最小值： 26.0\n",
      "最优解为： [2. 6.]\n"
     ]
    }
   ],
   "source": [
    "from scipy.optimize import linprog\n",
    "c = [-4,-3]\n",
    "A = [[2,1],[1,1]]\n",
    "b = [10,8]\n",
    "bounds=((0,None),(0,7))\n",
    "res = linprog(c,A,b,None,None,bounds,method='simplex')\n",
    "print('目标函数的最小值：',-res.fun)\n",
    "print('最优解为：',res.x)"
   ]
  },
  {
   "cell_type": "markdown",
   "metadata": {},
   "source": [
    "# 例2 线性\n",
    "![title](pic/1.2.png)"
   ]
  },
  {
   "cell_type": "code",
   "execution_count": 1,
   "metadata": {},
   "outputs": [
    {
     "name": "stdout",
     "output_type": "stream",
     "text": [
      "目标函数的最小值： 14.571428571428571\n",
      "最优解为： [6.42857143 0.57142857 0.        ]\n"
     ]
    }
   ],
   "source": [
    "from scipy.optimize import linprog\n",
    "c = [-2,-3,5]\n",
    "A = [[-2,5,-1],[1,3,1]]\n",
    "b = [-10,12]\n",
    "Aeq = [[1,1,1]]\n",
    "beq = [7]\n",
    "bounds=((0,None),(0,None),(0,None))\n",
    "res = linprog(c,A,b,Aeq,beq,bounds,method='simplex')\n",
    "print('目标函数的最大值：',-res.fun)\n",
    "print('最优解为：',res.x)"
   ]
  },
  {
   "cell_type": "markdown",
   "metadata": {},
   "source": [
    "# 例3 线性\n",
    "![title](pic/1.3.png)"
   ]
  },
  {
   "cell_type": "code",
   "execution_count": 7,
   "metadata": {},
   "outputs": [
    {
     "name": "stdout",
     "output_type": "stream",
     "text": [
      "目标函数的最小值： -7.0\n",
      "最优解为： [0.8 1.8 0. ]\n"
     ]
    }
   ],
   "source": [
    "from scipy.optimize import linprog\n",
    "c = [2,3,1]\n",
    "A = [[-1,-4,-2],[-3,-2,0]]\n",
    "b = [-8,-6]\n",
    "bounds=((0,None),(0,None),(0,None))\n",
    "res = linprog(c,A,b,None,None,bounds,method='simplex')\n",
    "print('目标函数的最小值：',-res.fun)\n",
    "print('最优解为：',res.x)"
   ]
  },
  {
   "cell_type": "markdown",
   "metadata": {},
   "source": [
    "# 例4 线性\n",
    "![title](pic/1.4.png)"
   ]
  },
  {
   "cell_type": "code",
   "execution_count": 44,
   "metadata": {},
   "outputs": [
    {
     "name": "stdout",
     "output_type": "stream",
     "text": [
      "目标函数的最大值： 1146.6861576354684\n",
      "最优解为： [1200.            0.          230.04926108  500.          324.13793103\n",
      "    0.          500.          858.62068966  324.13793103  571.42857143]\n"
     ]
    }
   ],
   "source": [
    "from scipy.optimize import linprog\n",
    "c = [-0.75, -1.05, -0.7753, -1.3611, -1.9148, 0.375, 0.5, 0.4473, 1.2304, 0.35]\n",
    "A = [[5,10, 0, 0, 0, 0,  0, 0, 0 , 0],\n",
    "     [0, 0, 7, 9, 12, 0 , 0, 0, 0, 0],\n",
    "     [0, 0, 0, 0, 0, 6 , 8, 0, 0 , 0],\n",
    "     [0, 0, 0, 0, 0, 0 , 0, 4, 11 , 0],\n",
    "     [0, 0, 0, 0, 0, 0 , 0, 0, 0 , 7]]\n",
    "b = [6000, 10000, 4000, 7000, 4000]\n",
    "Aeq = [[1, 0, 1, 0, 0, -1, 0, -1, 0, -1],\n",
    "       [0, 1, 0, 1, 0, 0, -1,  0, 0, 0] ,\n",
    "       [0, 0, 0, 0, 1, 0,  0,  0, -1, 0]]\n",
    "beq = [0,0,0]\n",
    "bounds=((0,None),(0,None),(0,None),(0,None),(0,None),(0,None),(0,None),(0,None),(0,None),(0,None))\n",
    "res = linprog(c,A,b,Aeq,beq,bounds,method='simplex')\n",
    "print('目标函数的最大值：',-res.fun)\n",
    "print('最优解为：',res.x)"
   ]
  },
  {
   "cell_type": "markdown",
   "metadata": {},
   "source": []
  },
  {
   "cell_type": "markdown",
   "metadata": {},
   "source": [
    "# 例5 线性\n",
    "![title](pic/1.5.png)"
   ]
  },
  {
   "cell_type": "code",
   "execution_count": 25,
   "metadata": {},
   "outputs": [
    {
     "name": "stdout",
     "output_type": "stream",
     "text": [
      "目标函数的最大值： 0.99999999889648\n",
      "最优解为： [ 0.          0.          0.          0.          0.          0.\n",
      " 48.         30.54545455]\n"
     ]
    }
   ],
   "source": [
    "from numpy import log, exp\n",
    "from scipy.optimize import linprog\n",
    "c = [log(0.9), log(0.92), log(0.8), log(0.84), log(0.85), log(0.88), log(0.75), log(0.8) ]\n",
    "A = [[1, 0, 1, 0, 1, 0, 1, 0],\n",
    "     [0, 1, 0, 1, 0, 1, 0, 1],\n",
    "     [537.5, 462.5, 560.5, 480, 605, 515, 650, 550]]\n",
    "b = [48, 32, 48000]\n",
    "bounds = ((0,None),(0,None),(0,None),(0,None),(0,None),(0,None),(0,None),(0,None))\n",
    "res = linprog(c,A,b,None,None,bounds,method='simplex')\n",
    "print('目标函数的最大值：',1-exp(res.fun))\n",
    "print('最优解为：',res.x)"
   ]
  },
  {
   "cell_type": "markdown",
   "metadata": {},
   "source": [
    "# 例6 线性 绝对值\n",
    "![title](pic/1.6.png)"
   ]
  },
  {
   "cell_type": "code",
   "execution_count": 39,
   "metadata": {},
   "outputs": [
    {
     "name": "stdout",
     "output_type": "stream",
     "text": [
      "目标函数的最小值： 0.0\n",
      "最优解为： [ 0.125 -0.125  0.     0.     0.     0.    -0.125  0.125]\n"
     ]
    },
    {
     "name": "stderr",
     "output_type": "stream",
     "text": [
      "d:\\program files (x86)\\python release\\python37\\lib\\site-packages\\ipykernel_launcher.py:13: OptimizeWarning: A_eq does not appear to be of full row rank. To improve performance, check the problem formulation for redundant equality constraints.\n",
      "  del sys.path[0]\n"
     ]
    }
   ],
   "source": [
    "from scipy.optimize import linprog\n",
    "c = [1,1,2,2,3,3,4,4]\n",
    "Aeq = [[ 1, -1, -1,  1, -1,  1,  1, -1],\n",
    "       [ 1, -1, -1,  1,  1, -1, -3,  3],\n",
    "       [ 1, -1, -1,  1, -2,  2,  3, -3],\n",
    "       [-1, -1,  0,  0,  0,  0,  0,  0],\n",
    "       [ 0,  0, -1, -1,  0,  0,  0,  0],\n",
    "       [ 0,  0,  0,  0, -1, -1,  0,  0],\n",
    "       [ 0,  0,  0,  0,  0,  0, -1, -1]]\n",
    "\n",
    "beq = [0, 1, -0.5, 0, 0, 0,  0]\n",
    "bounds = ((None,None),(None,None),(None,None),(None,None),(None,None),(None,None),(None,None),(None,None))\n",
    "res = linprog(c,None,None,Aeq,beq,bounds=bounds,method='simplex')\n",
    "print('目标函数的最小值：',res.fun)\n",
    "print('最优解为：',res.x)"
   ]
  },
  {
   "cell_type": "markdown",
   "metadata": {},
   "source": [
    "# 例7 线性\n",
    "![title](pic/1.7.png)"
   ]
  },
  {
   "cell_type": "code",
   "execution_count": 43,
   "metadata": {},
   "outputs": [
    {
     "name": "stdout",
     "output_type": "stream",
     "text": [
      "目标函数的最大值： 121515.78947368421\n",
      "最优解为： [ 0.          0.          0.          7.          0.          8.\n",
      "  3.         12.94736842  0.          0.          3.05263158  0.        ]\n"
     ]
    },
    {
     "name": "stderr",
     "output_type": "stream",
     "text": [
      "d:\\program files (x86)\\python release\\python37\\lib\\site-packages\\ipykernel_launcher.py:19: OptimizeWarning: A_eq does not appear to be of full row rank. To improve performance, check the problem formulation for redundant equality constraints.\n"
     ]
    }
   ],
   "source": [
    "c = [-3100, -3100, -3100, -3800, -3800, -3800, -3500, -3500, -3500, -2850, -2850, -2850]\n",
    "A = [[1, 0, 0, 1, 0, 0, 1, 0, 0, 1, 0, 0],\n",
    "     [0, 1, 0, 0, 1, 0, 0, 1, 0, 0, 1, 0],\n",
    "     [0, 0, 1, 0, 0, 1, 0, 0, 1, 0, 0, 1],\n",
    "     [1, 1, 1, 0, 0, 0, 0, 0, 0, 0, 0, 0],\n",
    "     [0, 0, 0, 1, 1, 1, 0, 0, 0, 0, 0, 0],\n",
    "     [0, 0, 0, 0, 0, 0, 1, 1, 1, 0, 0, 0],\n",
    "     [0, 0, 0, 0, 0, 0, 0, 0, 0, 1, 1, 1],\n",
    "     [480, 0, 0, 650, 0, 0, 580, 0, 0, 390, 0, 0],\n",
    "     [0, 480, 0, 0, 650, 0, 0, 580, 0, 0, 390, 0],\n",
    "     [0, 0, 480, 0, 0, 650, 0, 0, 580, 0, 0, 390]]\n",
    "b = [10, 16,8,18,15,23,12,6800,8700,5300]\n",
    "\n",
    "Aeq = [[8, -5,  0, 8, -5,  0, 8, -5,  0, 8, -5,  0],\n",
    "       [0,  1, -2, 0,  1, -2, 0,  1, -2, 0,  1, -2],\n",
    "       [4,  0, -5, 4,  0, -5, 4,  0, -5, 4,  0, -5]]\n",
    "beq = [0,0,0]\n",
    "bounds = ((0,None),(0,None),(0,None),(0,None),(0,None),(0,None),(0,None),(0,None),(0,None),(0,None),(0,None),(0,None))\n",
    "res = linprog(c,A,b,Aeq,beq,bounds=bounds,method='simplex')\n",
    "print('目标函数的最大值：',-res.fun)\n",
    "print('最优解为：',res.x)"
   ]
  },
  {
   "cell_type": "code",
   "execution_count": null,
   "metadata": {},
   "outputs": [],
   "source": []
  },
  {
   "cell_type": "markdown",
   "metadata": {},
   "source": [
    "# 例8 整数 指派问题\n",
    "![title](pic/1.8.png)"
   ]
  },
  {
   "cell_type": "markdown",
   "metadata": {},
   "source": [
    "**第一种解法**"
   ]
  },
  {
   "cell_type": "code",
   "execution_count": 46,
   "metadata": {},
   "outputs": [
    {
     "name": "stdout",
     "output_type": "stream",
     "text": [
      "[0 1 2 3] [0 3 2 1]\n",
      "最小值 70\n"
     ]
    }
   ],
   "source": [
    "import numpy as np\n",
    "from scipy import optimize\n",
    "c = [[15, 18, 21, 24], \n",
    "     [19, 23, 22, 18], \n",
    "     [26, 17, 16, 19],\n",
    "     [19, 21, 23, 17]]\n",
    "c = np.array(c)\n",
    "row_index, col_index=optimize.linear_sum_assignment(c)\n",
    "print(row_index,col_index)\n",
    "print('最小值',c[row_index,col_index].sum())"
   ]
  },
  {
   "cell_type": "markdown",
   "metadata": {},
   "source": [
    "**第二种解法**"
   ]
  },
  {
   "cell_type": "code",
   "execution_count": 60,
   "metadata": {},
   "outputs": [
    {
     "name": "stdout",
     "output_type": "stream",
     "text": [
      "最优值为: 70.0\n",
      "最优解为：\n",
      " [[1. 0. 0. 0.]\n",
      " [0. 0. 0. 1.]\n",
      " [0. 0. 1. 0.]\n",
      " [0. 1. 0. 0.]]\n"
     ]
    }
   ],
   "source": [
    "import cvxpy as cp \n",
    "import numpy as np \n",
    "c=np.array([[15, 18, 21, 24], \n",
    "            [19, 23, 22, 18], \n",
    "            [26, 17, 16, 19],\n",
    "            [19, 21, 23, 17]]) \n",
    "x = cp.Variable((4,4),integer=True)\n",
    "obj = cp.Minimize(cp.sum(cp.multiply(c,x))) \n",
    "con= [0 <= x, x <= 1, cp.sum(x, axis=0, keepdims=True)==1, \n",
    "               cp.sum(x, axis=1, keepdims=True)==1] \n",
    "prob = cp.Problem(obj, con) \n",
    "prob.solve(solver='GLPK_MI') \n",
    "print(\"最优值为:\",prob.value) \n",
    "print(\"最优解为：\\n\",x.value)"
   ]
  },
  {
   "cell_type": "markdown",
   "metadata": {},
   "source": [
    "# 例9 线性整数\n",
    "![title](pic/1.9.png)"
   ]
  },
  {
   "cell_type": "code",
   "execution_count": 1,
   "metadata": {},
   "outputs": [
    {
     "name": "stdout",
     "output_type": "stream",
     "text": [
      "Using the Community license in this session. If you have a full Xpress license, first set the XPAUTH_PATH environment variable to the full path to your license file, xpauth.xpr, and then restart Python. If you want to use the FICO Community license and no longer want to see this message, set the XPAUTH_PATH environment variable to: d:\\program files (x86)\\python release\\python37\\lib\\site-packages\\xpress\\license\\community-xpauth.xpr\n",
      "NB: setting XPAUTH_PATH will also affect any other Xpress products installed on your system.\n",
      "最优值为: 4.0\n",
      "最优解为：\n",
      " [2. 2.]\n"
     ]
    },
    {
     "name": "stderr",
     "output_type": "stream",
     "text": [
      "d:\\program files (x86)\\python release\\python37\\lib\\site-packages\\cvxpy\\expressions\\expression.py:550: UserWarning: \n",
      "This use of ``*`` has resulted in matrix multiplication.\n",
      "Using ``*`` for matrix multiplication has been deprecated since CVXPY 1.1.\n",
      "    Use ``*`` for matrix-scalar and vector-scalar multiplication.\n",
      "    Use ``@`` for matrix-matrix and matrix-vector multiplication.\n",
      "    Use ``multiply`` for elementwise multiplication.\n",
      "\n",
      "  warnings.warn(__STAR_MATMUL_WARNING__, UserWarning)\n",
      "d:\\program files (x86)\\python release\\python37\\lib\\site-packages\\cvxpy\\expressions\\expression.py:550: UserWarning: \n",
      "This use of ``*`` has resulted in matrix multiplication.\n",
      "Using ``*`` for matrix multiplication has been deprecated since CVXPY 1.1.\n",
      "    Use ``*`` for matrix-scalar and vector-scalar multiplication.\n",
      "    Use ``@`` for matrix-matrix and matrix-vector multiplication.\n",
      "    Use ``multiply`` for elementwise multiplication.\n",
      "\n",
      "  warnings.warn(__STAR_MATMUL_WARNING__, UserWarning)\n"
     ]
    }
   ],
   "source": [
    "import cvxpy as cp \n",
    "from numpy import array \n",
    "c=array([1,1])  # 定义目标向量 \n",
    "a=array([[1, 9/14], [-2,1]])  # 定义约束矩阵 \n",
    "b=array([51/14, 1/3])  # 定义约束条件的右边向量 \n",
    "x=cp.Variable(2,integer=True)  # 定义两个整数决策变量 \n",
    "obj=cp.Maximize(c*x)  # 构造目标函数\n",
    "cons=[a*x<=b, x>=0]    #构造约束条件 \n",
    "prob=cp.Problem(obj, cons)  # 构建问题模型 \n",
    "prob.solve(solver='GLPK_MI',verbose =True)  # 求解问题求解问题 \n",
    "print(\"最优值为:\",prob.value) \n",
    "print(\"最优解为：\\n\",x.value)"
   ]
  },
  {
   "cell_type": "markdown",
   "metadata": {},
   "source": [
    "# 例10 整数\n",
    "![title](pic/1.10.png)"
   ]
  },
  {
   "cell_type": "code",
   "execution_count": 4,
   "metadata": {},
   "outputs": [
    {
     "name": "stdout",
     "output_type": "stream",
     "text": [
      "目标函数的最大值： 4800.0\n",
      "最优解为： [500.   0. 500.   0.   0.]\n",
      "目标函数的最大值： 5000.0\n",
      "最优解为： [2.27373675e-13 1.50000000e+03 2.27373675e-13 1.00000000e+03\n",
      " 1.00000000e+03]\n",
      "目标函数的最大值： 5000.0\n",
      "最优解为： [5.68434189e-14 1.50000000e+03 0.00000000e+00 1.00000000e+03\n",
      " 1.00000000e+03]\n"
     ]
    }
   ],
   "source": [
    "from scipy.optimize import linprog\n",
    "c1 = [-4.8, -5.6, -4.8, -5.6, 10]\n",
    "c2 = [-4.8, -5.6, -4.8, -5.6, 8]\n",
    "c3 = [-4.8, -5.6, -4.8, -5.6, 6]\n",
    "\n",
    "A = [[-1, 0, 1, 0, 0],\n",
    "     [0, -2, 0, 3, 0],\n",
    "     [1, 1, 0, 0, -1],\n",
    "     [0, 0, 1, 1, 0]]\n",
    "b = [0, 0, 500,1000]\n",
    "bounds1 = ((0,None),(0,None),(0,None),(0,None),(0,500))\n",
    "bounds2 = ((0,None),(0,None),(0,None),(0,None),(500,1000))\n",
    "bounds3 = ((0,None),(0,None),(0,None),(0,None),(1000,1500))\n",
    "res = linprog(c1,A,b,None,None,bounds1,method='simplex')\n",
    "print('目标函数的最大值：',-res.fun)\n",
    "print('最优解为：',res.x)\n",
    "res = linprog(c2,A,b,None,None,bounds2,method='simplex')\n",
    "print('目标函数的最大值：',-res.fun-1000)\n",
    "print('最优解为：',res.x)\n",
    "res = linprog(c3,A,b,None,None,bounds3,method='simplex')\n",
    "print('目标函数的最大值：',-res.fun-3000)\n",
    "print('最优解为：',res.x)"
   ]
  },
  {
   "cell_type": "markdown",
   "metadata": {},
   "source": [
    "# 例11 整数\n",
    "![title](pic/1.11.png)"
   ]
  },
  {
   "cell_type": "code",
   "execution_count": 58,
   "metadata": {},
   "outputs": [
    {
     "name": "stdout",
     "output_type": "stream",
     "text": [
      "最大利润 17\n",
      "甲乙丙丁的分配方式为 [[4, 2, 7, 4], [4, 4, 5, 4], [4, 6, 3, 4], [6, 0, 7, 4], [6, 2, 5, 4], [6, 4, 3, 4]]\n"
     ]
    }
   ],
   "source": [
    "A = [[0, 4, 6, 7, 7, 7, 7],\n",
    "     [0, 2, 4, 6, 8, 9, 10],\n",
    "     [0, 3, 5, 7, 8, 8, 8],\n",
    "     [0, 4, 5, 6, 6, 6, 6],\n",
    "     [0, 0, 0, 0, 0, 0, 0]]\n",
    "n = 6\n",
    "res = []\n",
    "def bfs(nums,count,index,path):\n",
    "\n",
    "    if count==6 and len(path)==4:\n",
    "        res.append(path)\n",
    "    if index==4:\n",
    "        return\n",
    "    for i in range(len(nums)):\n",
    "        bfs(A[index+1][:n-i-count+1],count+i,index+1,path+[nums[i]])\n",
    "bfs(A[0],0,0,[])\n",
    "max_interest = max([ sum(i) for i in res])\n",
    "print('最大利润',max_interest)\n",
    "print('甲乙丙丁的分配方式为',[i  for i in res if sum(i)==max_interest])\n",
    "    "
   ]
  },
  {
   "cell_type": "markdown",
   "metadata": {},
   "source": [
    "# 例题 12\n",
    "![title](pic/1.12.1.png)\n",
    "![title](pic/1.12.2.png)\n",
    "![title](pic/1.12.3.png)"
   ]
  },
  {
   "cell_type": "code",
   "execution_count": 1,
   "metadata": {},
   "outputs": [
    {
     "name": "stdout",
     "output_type": "stream",
     "text": [
      "Using the Community license in this session. If you have a full Xpress license, first set the XPAUTH_PATH environment variable to the full path to your license file, xpauth.xpr, and then restart Python. If you want to use the FICO Community license and no longer want to see this message, set the XPAUTH_PATH environment variable to: d:\\program files (x86)\\python release\\python37\\lib\\site-packages\\xpress\\license\\community-xpauth.xpr\n",
      "NB: setting XPAUTH_PATH will also affect any other Xpress products installed on your system.\n"
     ]
    }
   ],
   "source": [
    "import numpy as np\n",
    "import cvxpy as cp\n",
    "badA = np.array([[8.4, 8.4, 9.1, 8.7],\n",
    "              [9.3, 8.4, 8.4, 8.9],\n",
    "              [8.4, 8.1, 8.4, 9.5],\n",
    "              [8.1, 8.7,   9, 8.4],\n",
    "              [8.4,   9, 8.3, 9.4],\n",
    "              [9.4, 8.7, 8.5, 8.4],\n",
    "              [9.5, 8.4, 8.3, 8.4],\n",
    "              [8.4, 8.8, 8.7, 8.2],\n",
    "              [8.4, 8.4, 8.4, 9.3],\n",
    "              [  9, 8.1, 8.2, 9.1]])\n",
    "goodA = np.array([[9.25,    9,   9.5,   9.1],\n",
    "                  [ 9.6,    9,     9,   9.3],\n",
    "                  [   9,  9.1,  9.25,   9.8],\n",
    "                  [ 9.1,  9.1,   9.5,     9],\n",
    "                  [9.25,  9.4,   8.9,   9.7],\n",
    "                  [ 9.7,  9.1,   8.9,  9.25],\n",
    "                  [ 9.8,    9,   8.9,   9.2],\n",
    "                  [   9,  9.8,   9.1,   9.3],\n",
    "                  [9.25,  9.2,     9,   9.7],\n",
    "                  [ 9.4,  9.1,   9.2,   9.5]])\n",
    "# 求解函数\n",
    "def dp(A,index,ssum,path):\n",
    "    global ans,ansPath,ansLeft\n",
    "    if len(path)==4:\n",
    "        # 下面是整数规划问题\n",
    "        left = [i  for i in range(n) if i not in path]\n",
    "        c = A[[left]]\n",
    "        x = cp.Variable((6,4),integer=True)\n",
    "        obj = cp.Maximize( cp.sum(cp.multiply(c,x)) + ssum)\n",
    "        con = [0 <= x, x <= 1, cp.sum(x, axis=0, keepdims=True)<=2,\n",
    "                               cp.sum(x, axis=1, keepdims=True)<=3]\n",
    "        prob = cp.Problem(obj, con)\n",
    "        prob.solve(solver = 'GLPK_MI')\n",
    "        if ans < prob.value:\n",
    "            ans = prob.value\n",
    "            ansLeft = x.value\n",
    "            ansPath = np.array(path)\n",
    "        return\n",
    "    for i in range(index,n):\n",
    "        dp(A,i+1,ssum+sum(A[i]),path+[i])\n",
    "        \n",
    "# 输出答案\n",
    "def printAns(ans, ansPath, ansLeft,condition):\n",
    "    \n",
    "    sports = ['高低杠','平衡木','跳马','自由体操']\n",
    "    print(condition+'的情况下最优值是',ans)\n",
    "    print(condition+'的情况下全能选手是',ansPath+1)\n",
    "    print(condition+'的情况下,其余选手')\n",
    "    for i,j in zip([i  for i in range(n) if i not in ansPath],ansLeft):\n",
    "        print(i+1,end=' ')\n",
    "        for k in range(len(j)):\n",
    "            if j[k]:\n",
    "                print(sports[k],end=' ')\n",
    "        print()\n",
    "n = 10"
   ]
  },
  {
   "cell_type": "markdown",
   "metadata": {},
   "source": [
    "**第一问**"
   ]
  },
  {
   "cell_type": "code",
   "execution_count": 2,
   "metadata": {},
   "outputs": [
    {
     "name": "stderr",
     "output_type": "stream",
     "text": [
      "d:\\program files (x86)\\python release\\python37\\lib\\site-packages\\ipykernel_launcher.py:29: FutureWarning: Using a non-tuple sequence for multidimensional indexing is deprecated; use `arr[tuple(seq)]` instead of `arr[seq]`. In the future this will be interpreted as an array index, `arr[np.array(seq)]`, which will result either in an error or a different result.\n"
     ]
    },
    {
     "name": "stdout",
     "output_type": "stream",
     "text": [
      "最差的情况下最优值是 212.3\n",
      "最差的情况下全能选手是 [2 5 6 9]\n",
      "最差的情况下,其余选手\n",
      "1 跳马 \n",
      "3 自由体操 \n",
      "4 平衡木 跳马 \n",
      "7 高低杠 \n",
      "8 平衡木 \n",
      "10 高低杠 自由体操 \n",
      "\n",
      "期望的情况下最优值是 225.10000000000002\n",
      "期望的情况下全能选手是 [ 2  3  9 10]\n",
      "期望的情况下,其余选手\n",
      "1 跳马 \n",
      "4 跳马 \n",
      "5 平衡木 自由体操 \n",
      "6 高低杠 \n",
      "7 高低杠 \n",
      "8 平衡木 自由体操 \n",
      "\n"
     ]
    }
   ],
   "source": [
    "for A,condition in zip((badA,goodA),('最差','期望')):\n",
    "    ans = 0\n",
    "    ansLeft ,ansPath = [],[]\n",
    "    dp(A,0,0,[])\n",
    "    printAns(ans, ansPath, ansLeft, condition)\n",
    "    print()\n"
   ]
  },
  {
   "cell_type": "code",
   "execution_count": null,
   "metadata": {},
   "outputs": [],
   "source": []
  },
  {
   "cell_type": "markdown",
   "metadata": {},
   "source": [
    "**第二问**"
   ]
  },
  {
   "cell_type": "code",
   "execution_count": 44,
   "metadata": {},
   "outputs": [],
   "source": []
  },
  {
   "cell_type": "code",
   "execution_count": null,
   "metadata": {},
   "outputs": [],
   "source": []
  },
  {
   "cell_type": "code",
   "execution_count": null,
   "metadata": {},
   "outputs": [],
   "source": []
  }
 ],
 "metadata": {
  "kernelspec": {
   "display_name": "Python 3",
   "language": "python",
   "name": "python3"
  },
  "language_info": {
   "codemirror_mode": {
    "name": "ipython",
    "version": 3
   },
   "file_extension": ".py",
   "mimetype": "text/x-python",
   "name": "python",
   "nbconvert_exporter": "python",
   "pygments_lexer": "ipython3",
   "version": "3.7.7"
  },
  "toc-autonumbering": true,
  "toc-showmarkdowntxt": false
 },
 "nbformat": 4,
 "nbformat_minor": 4
}
