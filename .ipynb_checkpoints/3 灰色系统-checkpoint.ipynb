{
 "cells": [
  {
   "cell_type": "markdown",
   "metadata": {},
   "source": [
    "# 数据的检验与处理\n",
    "![title](pic\\3.1.1.png)"
   ]
  },
  {
   "cell_type": "code",
   "execution_count": 1,
   "metadata": {},
   "outputs": [
    {
     "name": "stdout",
     "output_type": "stream",
     "text": [
      "[0.72222222 0.9        0.83333333 0.88888889]\n",
      "通过级比检验\n"
     ]
    }
   ],
   "source": [
    "import numpy as np\n",
    "import math\n",
    "data = (3,8,10,14,17)\n",
    "c = 10\n",
    "n  = len(data)\n",
    "X0 = np.array(data)+c\n",
    "\n",
    "lam = np.array([X0[i-1]/X0[i] for i in range(1,n)])\n",
    "print(lam)\n",
    "\n",
    "# 级比检验\n",
    "if all( lam > math.exp(-2/(n+1))) and all(lam < math.exp(2/(n+1))):\n",
    "    print('通过级比检验')\n",
    "else:\n",
    "    print('没有通过级比检验')"
   ]
  },
  {
   "cell_type": "markdown",
   "metadata": {},
   "source": [
    "# 建立模型\n",
    "![title](pic\\3.1.2.png)"
   ]
  },
  {
   "cell_type": "code",
   "execution_count": 2,
   "metadata": {},
   "outputs": [],
   "source": [
    "# 累加生成\n",
    "X1 = X0.cumsum()\n",
    "\n",
    "\n",
    "# 计算数据矩阵B和数据向量Y\n",
    "alpha = 0.5\n",
    "B = np.zeros([n-1,2])\n",
    "Y = np.zeros([n-1,1])\n",
    "for i in range(n-1):\n",
    "    B[i][0] = -alpha*X1[i]+(alpha-1)*X1[i+1]\n",
    "    B[i][1] = 1\n",
    "    Y[i][0] = X0[i+1]\n",
    "    \n",
    "    \n",
    "#计算GM(1,1)微分方程的参数a和u\n",
    "A = np.linalg.inv(B.T.dot(B)).dot(B.T).dot(Y)\n",
    "a,u = A\n",
    "\n",
    "\n",
    "#建立灰色预测模型\n",
    "XX0 = np.zeros(n)\n",
    "XX0[0] = X0[0]\n",
    "for i in range(1,n):\n",
    "    XX0[i] = (X0[0] - u/a)*(1-math.exp(a))*math.exp(-a*(i));"
   ]
  },
  {
   "cell_type": "code",
   "execution_count": 13,
   "metadata": {},
   "outputs": [
    {
     "data": {
      "text/plain": [
       "array([13.        , 17.7785049 , 20.44980597, 23.52248215, 27.05684188])"
      ]
     },
     "execution_count": 13,
     "metadata": {},
     "output_type": "execute_result"
    }
   ],
   "source": []
  },
  {
   "cell_type": "markdown",
   "metadata": {},
   "source": [
    "# 检验预测值\n",
    "![title](pic\\3.1.3.png)"
   ]
  },
  {
   "cell_type": "code",
   "execution_count": 3,
   "metadata": {},
   "outputs": [
    {
     "name": "stdout",
     "output_type": "stream",
     "text": [
      "残差检验\n",
      "可以达到较高要求\n",
      "级比偏差值检验\n",
      "可以达到一般要求\n"
     ]
    }
   ],
   "source": [
    "#（1）残差检验\n",
    "e = np.array([1- XX0[i]/X0[i] for i in range(n)])\n",
    "print('残差检验')\n",
    "if all(e<0.1):\n",
    "    print('可以达到较高要求')\n",
    "elif all(e<0.2):\n",
    "    print('可以达到一般要求')\n",
    "else:\n",
    "    print('不通过',e)\n",
    "\n",
    "#（2）级比偏差值检验\n",
    "p = 1 - (2-a)/(2+a)*lam\n",
    "print('级比偏差值检验')\n",
    "if all(p<0.1):\n",
    "    print('可以达到较高要求')\n",
    "elif all(p<0.2):\n",
    "    print('可以达到一般要求')\n",
    "else:\n",
    "    print('不通过',p)"
   ]
  },
  {
   "cell_type": "markdown",
   "metadata": {},
   "source": [
    "# 预测报告\n",
    "![title](pic\\3.1.4.png)"
   ]
  },
  {
   "cell_type": "code",
   "execution_count": 14,
   "metadata": {},
   "outputs": [
    {
     "data": {
      "text/plain": [
       "[array([31.12225521]),\n",
       " array([35.79851534]),\n",
       " array([41.17740479]),\n",
       " array([47.36449679]),\n",
       " array([54.48122746]),\n",
       " array([62.66727922]),\n",
       " array([72.08332241]),\n",
       " array([82.91416884]),\n",
       " array([95.37239912]),\n",
       " array([109.70253506])]"
      ]
     },
     "execution_count": 14,
     "metadata": {},
     "output_type": "execute_result"
    }
   ],
   "source": [
    "def fun(n,sep = 10,X=X0,a_=a,u_=u):\n",
    "    f = [(X[0] - u/a)*(1-math.exp(a))*math.exp(-a*(i)) for i in range(n,n+sep)]\n",
    "    return f\n",
    "fun(n)\n"
   ]
  },
  {
   "cell_type": "code",
   "execution_count": 19,
   "metadata": {},
   "outputs": [
    {
     "data": {
      "image/png": "[encoded data removed]",
      "text/plain": [
       "<Figure size 432x288 with 2 Axes>"
      ]
     },
     "metadata": {
      "needs_background": "light"
     },
     "output_type": "display_data"
    }
   ],
   "source": [
    "import numpy as np \n",
    "import matplotlib.pyplot as plt \n",
    "from scipy.interpolate import interp1d  \n",
    "x=np.arange(0,25,2) \n",
    "y=np.array([12, 9, 9, 10, 18, 24, 28, 27, 25, 20, 18, 15, 13]) \n",
    "xnew=np.linspace(0, 24, 500)  # 插值点插值点 \n",
    "f1=interp1d(x, y); y1=f1(xnew); \n",
    "f2=interp1d(x, y,'cubic'); y2=f2(xnew) \n",
    "plt.rc('font',size=16); plt.rc('font',family='SimHei')\n",
    "plt.subplot(121), plt.plot(xnew, y1); plt.xlabel(\"（A）分段线性插值\") \n",
    "plt.subplot(122); plt.plot(xnew, y2); plt.xlabel(\"（B）三次样条插值\")\n",
    "plt.tight_layout()"
   ]
  },
  {
   "cell_type": "code",
   "execution_count": null,
   "metadata": {},
   "outputs": [],
   "source": []
  },
  {
   "cell_type": "code",
   "execution_count": null,
   "metadata": {},
   "outputs": [],
   "source": []
  }
 ],
 "metadata": {
  "kernelspec": {
   "display_name": "Python 3",
   "language": "python",
   "name": "python3"
  },
  "language_info": {
   "codemirror_mode": {
    "name": "ipython",
    "version": 3
   },
   "file_extension": ".py",
   "mimetype": "text/x-python",
   "name": "python",
   "nbconvert_exporter": "python",
   "pygments_lexer": "ipython3",
   "version": "3.7.7"
  },
  "toc-autonumbering": true
 },
 "nbformat": 4,
 "nbformat_minor": 4
}
