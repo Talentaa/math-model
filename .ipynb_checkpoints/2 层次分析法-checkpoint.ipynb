{
 "cells": [
  {
   "cell_type": "markdown",
   "metadata": {},
   "source": [
    "![title](pic/3.1.1.png)"
   ]
  },
  {
   "cell_type": "markdown",
   "metadata": {},
   "source": [
    "# AHP类"
   ]
  },
  {
   "cell_type": "code",
   "execution_count": 1,
   "metadata": {},
   "outputs": [],
   "source": [
    "import numpy as np\n",
    "class AHP:\n",
    "    \"\"\"\n",
    "    相关信息的传入和准备\n",
    "    \"\"\"\n",
    "\n",
    "    def __init__(self, array):\n",
    "        ## 记录矩阵相关信息\n",
    "        self.array = array\n",
    "        ## 记录矩阵大小\n",
    "        self.n = array.shape[0]\n",
    "        # 初始化RI值，用于一致性检验\n",
    "        self.RI_list = [0, 0, 0.58, 0.90, 1.12, 1.24, 1.32, 1.41, 1.45]\n",
    "        # 矩阵的特征值和特征向量\n",
    "        self.eig_val, self.eig_vector = np.linalg.eig(self.array)\n",
    "        # 矩阵的最大特征值\n",
    "        self.max_eig_val = np.max(self.eig_val).real\n",
    "        # 矩阵最大特征值对应的特征向量\n",
    "        self.max_eig_vector = self.eig_vector[:, np.argmax(self.eig_val)].real\n",
    "        # 矩阵的一致性指标CI\n",
    "        self.CI_val = (self.max_eig_val - self.n) / (self.n - 1)\n",
    "        # 矩阵的一致性比例CR\n",
    "        self.CR_val = self.CI_val / (self.RI_list[self.n - 1])\n",
    "\n",
    "    \"\"\"\n",
    "    一致性判断\n",
    "    \"\"\"\n",
    "\n",
    "    def test_consist(self):\n",
    "        # 打印矩阵的一致性指标CI和一致性比例CR\n",
    "        print(\"判断矩阵的CI值为：\" + str(self.CI_val.real))\n",
    "        print(\"判断矩阵的CR值为：\" + str(self.CR_val.real))\n",
    "        # 进行一致性检验判断\n",
    "        if self.n == 2:  # 当只有两个子因素的情况\n",
    "            print(\"仅包含两个子因素，不存在一致性问题\")\n",
    "        else:\n",
    "            if self.CR_val < 0.1:  # CR值小于0.1，可以通过一致性检验\n",
    "                print(\"判断矩阵的CR值为\" + str(self.CR_val.real) + \" < 0.1,通过一致性检验\")\n",
    "                return True\n",
    "            else:  # CR值大于0.1, 一致性检验不通过\n",
    "                print(\"判断矩阵的CR值为\" + str(self.CR_val.real) + \" > 0.1未通过一致性检验\")\n",
    "                return False\n",
    "\n",
    "    \"\"\"\n",
    "    算术平均法求权重\n",
    "    \"\"\"\n",
    "\n",
    "    def cal_weight_by_arithmetic_method(self):\n",
    "        # 求矩阵的每列的和\n",
    "        col_sum = np.sum(self.array, axis=0)\n",
    "        # 将判断矩阵按照列归一化\n",
    "        array_normed = self.array / col_sum\n",
    "        # 计算权重向量\n",
    "        array_weight = np.sum(array_normed, axis=1) / self.n\n",
    "        # 打印权重向量\n",
    "        print(\"算术平均法计算得到的权重向量为：\\n\", array_weight)\n",
    "        # 返回权重向量的值\n",
    "        return array_weight\n",
    "\n",
    "    \"\"\"\n",
    "    几何平均法求权重\n",
    "    \"\"\"\n",
    "\n",
    "    def cal_weight__by_geometric_method(self):\n",
    "        # 求矩阵的每列的积\n",
    "        col_product = np.product(self.array, axis=0)\n",
    "        # 将得到的积向量的每个分量进行开n次方\n",
    "        array_power = np.power(col_product, 1 / self.n)\n",
    "        # 将列向量归一化\n",
    "        array_weight = array_power / np.sum(array_power)\n",
    "        # 打印权重向量\n",
    "        print(\"几何平均法计算得到的权重向量为：\\n\", array_weight)\n",
    "        # 返回权重向量的值\n",
    "        return array_weight\n",
    "\n",
    "    \"\"\"\n",
    "    特征值法求权重\n",
    "    \"\"\"\n",
    "\n",
    "    def cal_weight__by_eigenvalue_method(self):\n",
    "        # 将矩阵最大特征值对应的特征向量进行归一化处理就得到了权重\n",
    "        array_weight = self.max_eig_vector / np.sum(self.max_eig_vector)\n",
    "        # 打印权重向量\n",
    "        #print(\"特征值法计算得到的权重向量为：\\n\", array_weight)\n",
    "        # 返回权重向量的值\n",
    "        return array_weight\n",
    "\n"
   ]
  },
  {
   "cell_type": "markdown",
   "metadata": {},
   "source": [
    "# 构造成对比较矩阵\n",
    "![title](pic/3.1.2.png)"
   ]
  },
  {
   "cell_type": "code",
   "execution_count": 9,
   "metadata": {},
   "outputs": [],
   "source": [
    "# A = AHP(np.array([[  1, 1/2, 4,   3,   3], \n",
    "#               [  2,   1, 7,   5,   5],\n",
    "#               [1/4, 1/7, 1, 1/2, 1/3],\n",
    "#               [1/3, 1/5, 2,   1,   1],\n",
    "#               [1/3, 1/5, 3,   1,   1]]))\n",
    "\n",
    "# B1 = AHP(np.array([[  1,   2, 5],\n",
    "#                [1/2,   1, 2],\n",
    "#                [1/5, 1/2, 1]]))\n",
    "\n",
    "# B2 = AHP(np.array([[1, 1/3, 1/8],\n",
    "#                [3,   1, 1/3],\n",
    "#                [8,   3,   1]]))\n",
    "\n",
    "# B3 = AHP(np.array([[  1,   1, 3],\n",
    "#                [  1,   1, 3],\n",
    "#                [1/3, 1/3, 1]]))\n",
    "\n",
    "# B4 = AHP(np.array([[  1, 3, 4],\n",
    "#                [1/3, 1, 1],\n",
    "#                [1/4, 1, 1]]))\n",
    "\n",
    "# B5 = AHP(np.array([[1, 1, 1/4],\n",
    "#                [1, 1, 1/4],\n",
    "#                [4, 4,   1]]))\n",
    "\n",
    "# B = [B1, B2, B3, B4, B5]\n",
    "\n",
    "A = AHP(np.array([[  1,   1,   1,  4,   1, 1/2], \n",
    "                  [  1,   1,   2,  4,   1, 1/2],\n",
    "                  [  1, 1/2,   1,  5,   3, 1/2],\n",
    "                  [1/4, 1/4, 1/5,  1, 1/3, 1/3],\n",
    "                  [  1,   1, 1/3,  3,   1,   1],\n",
    "                  [  2,   2,   2,  3,   3,   1]]))\n",
    "\n",
    "B1 = AHP(np.array([[  1,  1/4, 1/2],\n",
    "                   [  4,   1, 3],\n",
    "                   [  2, 1/3, 1]]))\n",
    "\n",
    "B2 = AHP(np.array([[1, 1/4, 1/5],\n",
    "                   [4,   1, 1/2],\n",
    "                   [5,   2,   1]]))\n",
    "\n",
    "B3 = AHP(np.array([[  1,   3, 1/3],\n",
    "                   [1/3,   1, 1/7],\n",
    "                   [  3,   7, 1]]))\n",
    "\n",
    "B4 = AHP(np.array([[  1, 1/3, 5],\n",
    "                   [  3, 1, 7],\n",
    "                   [1/5, 1/7, 1]]))\n",
    "    \n",
    "B5 = AHP(np.array([[  1,   1, 7],\n",
    "                   [  1,   1, 7],\n",
    "                   [1/7, 1/7, 1]]))\n",
    "\n",
    "B6 = AHP(np.array([[1, 7, 9],\n",
    "                   [1/7, 1, 1],\n",
    "                   [1/9, 1, 1]]))\n",
    "\n",
    "B = [B1, B2, B3, B4, B5, B6]"
   ]
  },
  {
   "cell_type": "markdown",
   "metadata": {},
   "source": [
    "# 计算层次单排序的权向量和一致性检验"
   ]
  },
  {
   "cell_type": "code",
   "execution_count": 10,
   "metadata": {},
   "outputs": [
    {
     "name": "stdout",
     "output_type": "stream",
     "text": [
      "对比较矩阵A的最大特征值\n",
      "\t 6.617779843495169 \n",
      "\n",
      "w =  [0.15073427 0.17922646 0.18855504 0.04716696 0.1463679  0.28794936] \n",
      "\n",
      "对A的一致性检验\n",
      "判断矩阵的CI值为：0.12355596869903387\n",
      "判断矩阵的CR值为：0.09964191024115635\n",
      "判断矩阵的CR值为0.09964191024115635 < 0.1,通过一致性检验\n",
      "\n",
      "对B的一致性检验\n",
      "判断矩阵的CI值为：0.009147353644815004\n",
      "判断矩阵的CR值为：0.015771299387612077\n",
      "判断矩阵的CR值为0.015771299387612077 < 0.1,通过一致性检验\n",
      "\n",
      "判断矩阵的CI值为：0.012297534311748848\n",
      "判断矩阵的CR值为：0.021202645365084222\n",
      "判断矩阵的CR值为0.021202645365084222 < 0.1,通过一致性检验\n",
      "\n",
      "判断矩阵的CI值为：0.0035108825649674547\n",
      "判断矩阵的CR值为：0.006053245801668026\n",
      "判断矩阵的CR值为0.006053245801668026 < 0.1,通过一致性检验\n",
      "\n",
      "判断矩阵的CI值为：0.032443789936409395\n",
      "判断矩阵的CR值为：0.05593756885587827\n",
      "判断矩阵的CR值为0.05593756885587827 < 0.1,通过一致性检验\n",
      "\n",
      "判断矩阵的CI值为：-2.220446049250313e-16\n",
      "判断矩阵的CR值为：-3.8283552573281263e-16\n",
      "判断矩阵的CR值为-3.8283552573281263e-16 < 0.1,通过一致性检验\n",
      "\n",
      "判断矩阵的CI值为：0.0035108825649672326\n",
      "判断矩阵的CR值为：0.0060532458016676425\n",
      "判断矩阵的CR值为0.0060532458016676425 < 0.1,通过一致性检验\n",
      "\n"
     ]
    }
   ],
   "source": [
    "# 成对比较矩阵A的最大特征值\n",
    "print('对比较矩阵A的最大特征值\\n\\t' ,A.max_eig_val,'\\n')\n",
    "\n",
    "# 该特征值对应的归一化特征向量\n",
    "w = A.cal_weight__by_eigenvalue_method()\n",
    "print('w = ',w,'\\n')\n",
    "\n",
    "# 对A的一致性检验\n",
    "print('对A的一致性检验')\n",
    "A.test_consist()\n",
    "print()\n",
    "\n",
    "# 对B的一致性检验\n",
    "print('对B的一致性检验')\n",
    "for b in B:\n",
    "    b.test_consist()\n",
    "    print()"
   ]
  },
  {
   "cell_type": "markdown",
   "metadata": {},
   "source": [
    "# 计算层次总排序权值和一致性检验\n",
    "![title](pic/3.1.3.png)"
   ]
  },
  {
   "cell_type": "code",
   "execution_count": 12,
   "metadata": {},
   "outputs": [
    {
     "name": "stdout",
     "output_type": "stream",
     "text": [
      "w =  [0.15073427 0.17922646 0.18855504 0.04716696 0.1463679  0.28794936] \n",
      "\n",
      "W =  [[0.1364998  0.09739007 0.24263692 0.27895457 0.46666667 0.79859614]\n",
      " [0.62501307 0.33306935 0.08794621 0.649118   0.46666667 0.10491744]\n",
      " [0.23848712 0.56954058 0.66941687 0.07192743 0.06666667 0.09648642]] \n",
      "\n",
      "层次总排序通过一致性检验,结果可以作为最后的决策依据\n",
      "\n",
      "总权值 [0.3951982  0.29962129 0.30518051]\n"
     ]
    }
   ],
   "source": [
    "W = np.array([b.cal_weight__by_eigenvalue_method() for b in B]).T\n",
    "print('w = ',w,'\\n')\n",
    "print('W = ',W,'\\n')\n",
    "\n",
    "# 每个C_i 对总目标的权值为\n",
    "C = np.array([np.sum(w*W[i]) for i in range(len(W)) ])\n",
    "CR = np.sum(w*np.array([b.CI_val for b in B]))/B1.RI_list[B1.n - 1]\n",
    "\n",
    "if CR < 0.1:\n",
    "    print('层次总排序通过一致性检验,结果可以作为最后的决策依据\\n')\n",
    "else:\n",
    "    print('层次总排序不通过一致性检验\\n')\n",
    "    \n",
    "print('总权值',C)"
   ]
  },
  {
   "cell_type": "markdown",
   "metadata": {},
   "source": [
    "# 例题1\n",
    "![title](pic/3.2.png)"
   ]
  },
  {
   "cell_type": "code",
   "execution_count": 13,
   "metadata": {},
   "outputs": [
    {
     "name": "stdout",
     "output_type": "stream",
     "text": [
      "判断矩阵的CI值为：0.04700755401276613\n",
      "判断矩阵的CR值为：0.0810475069185623\n",
      "判断矩阵的CR值为0.0810475069185623 < 0.1,通过一致性检验\n"
     ]
    },
    {
     "data": {
      "text/plain": [
       "True"
      ]
     },
     "execution_count": 13,
     "metadata": {},
     "output_type": "execute_result"
    }
   ],
   "source": [
    "A = AHP(np.array([[  1, 1/5, 3],\n",
    "                  [  5,   1, 6],\n",
    "                  [1/3, 1/6, 1]]))\n",
    "A.test_consist()"
   ]
  },
  {
   "cell_type": "markdown",
   "metadata": {},
   "source": [
    "# 例题2\n",
    "![title](pic/3.3.png)"
   ]
  },
  {
   "cell_type": "markdown",
   "metadata": {},
   "source": [
    "## （2）\n",
    "\n",
    "\n",
    "**a 车最便宜，b车最省油，a车最舒适，b车最漂亮**"
   ]
  },
  {
   "cell_type": "markdown",
   "metadata": {},
   "source": [
    "## （3）\n",
    "\n",
    "\n",
    "**喜欢程度a, b, c分别是40.9%, 44.2%,14.9%** "
   ]
  },
  {
   "cell_type": "code",
   "execution_count": 14,
   "metadata": {},
   "outputs": [
    {
     "name": "stdout",
     "output_type": "stream",
     "text": [
      "对比较矩阵A的最大特征值\n",
      "\t 4.198278463879433 \n",
      "\n",
      "w =  [0.58196938 0.2786125  0.08988227 0.04953585] \n",
      "\n",
      "判断矩阵的CI值为：0.06609282129314427\n",
      "判断矩阵的CR值为：0.07343646810349364\n",
      "判断矩阵的CR值为0.07343646810349364 < 0.1,通过一致性检验\n",
      "\n",
      "对B的一致性检验\n",
      "判断矩阵的CI值为：0.004601356357141428\n",
      "判断矩阵的CR值为：0.007933373029554188\n",
      "判断矩阵的CR值为0.007933373029554188 < 0.1,通过一致性检验\n",
      "\n",
      "判断矩阵的CI值为：0.05947572619908503\n",
      "判断矩阵的CR值为：0.10254435551566386\n",
      "判断矩阵的CR值为0.10254435551566386 > 0.1未通过一致性检验\n",
      "\n",
      "判断矩阵的CI值为：0.04288334562860174\n",
      "判断矩阵的CR值为：0.07393680280793405\n",
      "判断矩阵的CR值为0.07393680280793405 < 0.1,通过一致性检验\n",
      "\n",
      "判断矩阵的CI值为：0.03244378993640895\n",
      "判断矩阵的CR值为：0.05593756885587751\n",
      "判断矩阵的CR值为0.05593756885587751 < 0.1,通过一致性检验\n",
      "\n",
      "w =  [0.58196938 0.2786125  0.08988227 0.04953585] \n",
      "\n",
      "W =  [[0.53961455 0.10563809 0.62669647 0.1883941 ]\n",
      " [0.29696133 0.7444632  0.27968751 0.73064467]\n",
      " [0.16342412 0.1498987  0.09361602 0.08096123]] \n",
      "\n",
      "层次总排序通过一致性检验,结果可以作为最后的决策依据\n",
      "\n",
      "总权值 [0.4091324  0.44157121 0.14929639]\n"
     ]
    }
   ],
   "source": [
    "A = AHP(np.array([[  1,   3,   7, 8],\n",
    "              [1/3,   1,   5, 5],\n",
    "              [1/7, 1/5,   1, 3],\n",
    "              [1/8, 1/5, 1/3, 1]]))\n",
    "\n",
    "B1 = AHP(np.array([[  1,   2,   3],\n",
    "               [1/2,   1,   2],\n",
    "               [1/3, 1/2,   1]]))\n",
    "\n",
    "B2 = AHP(np.array([[1, 1/5, 1/2],\n",
    "               [5,   1,   7],\n",
    "               [2, 1/7,   1]]))\n",
    "\n",
    "B3 = AHP(np.array([[  1,   3, 5],\n",
    "               [1/3,   1, 4],\n",
    "               [1/5, 1/4, 1]]))\n",
    " \n",
    "B4 = AHP(np.array([[  1, 1/5, 3],\n",
    "               [  5,   1, 7],\n",
    "               [1/3, 1/7, 1]]))\n",
    "\n",
    "B = [B1,B2,B3,B4]\n",
    "\n",
    "# 成对比较矩阵A的最大特征值\n",
    "print('对比较矩阵A的最大特征值\\n\\t' ,A.max_eig_val,'\\n')\n",
    "\n",
    "# 该特征值对应的归一化特征向量\n",
    "w = A.cal_weight__by_eigenvalue_method()\n",
    "print('w = ',w,'\\n')\n",
    "\n",
    "# 对A的一致性检验\n",
    "A.test_consist()\n",
    "print()\n",
    "\n",
    "# 对B的一致性检验\n",
    "print('对B的一致性检验')\n",
    "for b in B:\n",
    "    b.test_consist()\n",
    "    print()\n",
    "    \n",
    "    \n",
    "    \n",
    "\n",
    "\n",
    "W = np.array([b.cal_weight__by_eigenvalue_method() for b in B]).T\n",
    "print('w = ',w,'\\n')\n",
    "print('W = ',W,'\\n')\n",
    "\n",
    "# 每个C_i 对总目标的权值为\n",
    "C = np.array([np.sum(w*W[i]) for i in range(len(W)) ])\n",
    "CR = np.sum(w*np.array([b.CI_val for b in B]))/B1.RI_list[B1.n - 1]\n",
    "\n",
    "if CR < 0.1:\n",
    "    print('层次总排序通过一致性检验,结果可以作为最后的决策依据\\n')\n",
    "else:\n",
    "    print('层次总排序不通过一致性检验\\n')\n",
    "    \n",
    "print('总权值',C)"
   ]
  },
  {
   "cell_type": "code",
   "execution_count": null,
   "metadata": {},
   "outputs": [],
   "source": []
  },
  {
   "cell_type": "code",
   "execution_count": null,
   "metadata": {},
   "outputs": [],
   "source": []
  }
 ],
 "metadata": {
  "kernelspec": {
   "display_name": "Python 3",
   "language": "python",
   "name": "python3"
  },
  "language_info": {
   "codemirror_mode": {
    "name": "ipython",
    "version": 3
   },
   "file_extension": ".py",
   "mimetype": "text/x-python",
   "name": "python",
   "nbconvert_exporter": "python",
   "pygments_lexer": "ipython3",
   "version": "3.7.7"
  },
  "toc-autonumbering": true,
  "toc-showtags": false
 },
 "nbformat": 4,
 "nbformat_minor": 4
}
