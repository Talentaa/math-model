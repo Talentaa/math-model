{
 "cells": [
  {
   "cell_type": "markdown",
   "metadata": {
    "tags": []
   },
   "source": [
    "# 插值 解决方法\n",
    "![title](pic/3-4.0.png)\n",
    "**参考API文档**\n",
    "<https://docs.scipy.org/doc/scipy/reference/interpolate.html>"
   ]
  },
  {
   "cell_type": "markdown",
   "metadata": {},
   "source": [
    "# 例题1 二维插值\n",
    "![title](pic/3-4.1.png)"
   ]
  },
  {
   "cell_type": "code",
   "execution_count": 16,
   "metadata": {},
   "outputs": [
    {
     "data": {
      "application/vnd.jupyter.widget-view+json": {
       "model_id": "20261556de0a4dcb8cc5b67221ab6cc4",
       "version_major": 2,
       "version_minor": 0
      },
      "text/plain": [
       "Canvas(toolbar=Toolbar(toolitems=[('Home', 'Reset original view', 'home', 'home'), ('Back', 'Back to previous …"
      ]
     },
     "metadata": {},
     "output_type": "display_data"
    },
    {
     "data": {
      "text/plain": [
       "[<matplotlib.lines.Line2D at 0x1dae6cd0188>,\n",
       " <matplotlib.lines.Line2D at 0x1dae6cd4288>]"
      ]
     },
     "execution_count": 16,
     "metadata": {},
     "output_type": "execute_result"
    }
   ],
   "source": [
    "%matplotlib widget\n",
    "import numpy as np\n",
    "import matplotlib.pyplot as plt\n",
    "from scipy.interpolate import splev, splrep, lagrange, interp1d\n",
    "\n",
    "x = np.array([0,3,5,7,9,11,12,13,14,15])\n",
    "y = np.array([0,1.2, 1.7, 2.0, 2.1, 2.0, 1.8, 1.2, 1.0, 1.6])\n",
    "\n",
    "x_new = np.linspace(0,15,200)\n",
    "fig, ax = plt.subplots(3,figsize=(6,9))\n",
    "\n",
    "#lagrange插值\n",
    "poly = lagrange(x,y)\n",
    "y_1 = poly(x_new)\n",
    "ax[0].plot(x_new,y_1,'b',x,y,'o')\n",
    "\n",
    "\n",
    "#分段线性插值\n",
    "splitLine = interp1d(x,y,kind='linear')\n",
    "y_2 = splitLine(x_new)\n",
    "ax[1].plot(x_new,y_2,'y',x,y,'o')\n",
    "\n",
    "# 三次样条插值\n",
    " # 方法1\n",
    "spl = interp1d(x,y,kind='cubic')\n",
    "y_3 = spl(x_new)\n",
    "ax[2].plot(x_new,y_3,'r',x,y,'o')\n",
    "    \n",
    " # 方法2\n",
    "# spl = splrep(x,y,k=3)\n",
    "# y_4 = splev(x_new, spl)\n",
    "# plt.plot(x_new,y_4,'b')\n"
   ]
  },
  {
   "cell_type": "markdown",
   "metadata": {},
   "source": [
    "# 例题2 有序网格插值\n",
    "![title](pic/3-4.2.png)"
   ]
  },
  {
   "cell_type": "code",
   "execution_count": 15,
   "metadata": {},
   "outputs": [
    {
     "data": {
      "application/vnd.jupyter.widget-view+json": {
       "model_id": "6cc40e76c80e44e18f6e233316579f91",
       "version_major": 2,
       "version_minor": 0
      },
      "text/plain": [
       "Canvas(toolbar=Toolbar(toolitems=[('Home', 'Reset original view', 'home', 'home'), ('Back', 'Back to previous …"
      ]
     },
     "metadata": {},
     "output_type": "display_data"
    }
   ],
   "source": [
    "%matplotlib widget\n",
    "import numpy as np\n",
    "from scipy.interpolate import interp2d\n",
    "import mpl_toolkits.mplot3d\n",
    "import matplotlib.pyplot as plt\n",
    "\n",
    "x = np.linspace(100,500,5)\n",
    "y = np.linspace(100,400,4)\n",
    "xx,yy = np.meshgrid(x,y)\n",
    "z = np.array([[636, 697, 624, 478, 450],\n",
    "              [698, 712, 630, 478, 420],\n",
    "              [680, 674, 598, 412, 400],\n",
    "              [662, 626, 552, 334, 310]])\n",
    "\n",
    "\n",
    "func = interp2d(x,y,z,kind ='cubic')\n",
    "\n",
    "x_new = np.linspace(100,500,100)\n",
    "y_new = np.linspace(100,400,100)\n",
    "z_new = func(x_new,y_new)\n",
    "xx_new,yy_new = np.meshgrid(x_new,y_new)\n",
    "\n",
    "\n",
    "ax = plt.subplot(111,projection='3d')\n",
    "ax.plot_surface(xx_new,yy_new,z_new)\n",
    "ax.scatter(xx,yy,z,c='r',marker='^')\n",
    "plt.show()\n"
   ]
  },
  {
   "cell_type": "markdown",
   "metadata": {},
   "source": [
    "# 例题3 三维散点插值\n",
    "![title](pic/3-4.3.png)"
   ]
  },
  {
   "cell_type": "code",
   "execution_count": 14,
   "metadata": {},
   "outputs": [
    {
     "data": {
      "application/vnd.jupyter.widget-view+json": {
       "model_id": "32c6d5f1b59f4a27b566428096dc1dbe",
       "version_major": 2,
       "version_minor": 0
      },
      "text/plain": [
       "Canvas(toolbar=Toolbar(toolitems=[('Home', 'Reset original view', 'home', 'home'), ('Back', 'Back to previous …"
      ]
     },
     "metadata": {},
     "output_type": "display_data"
    }
   ],
   "source": [
    "%matplotlib widget\n",
    "import numpy as np\n",
    "from scipy.interpolate import interp2d, interp1d, griddata\n",
    "import matplotlib.pyplot as plt\n",
    "import mpl_toolkits.mplot3d\n",
    "import seaborn as sns\n",
    "\n",
    "x = np.array([129, 140, 103.5, 88, 185.5, 195, 105, 157.5, 107.5, 77, 81, 162, 162, 117.5])\n",
    "y = np.array([7.5, 141.5, 23, 147, 22.5, 137.5, 85.5, -6.5, -81, 3, 56.5, -66.5, 84, -33])\n",
    "z = -np.array([4, 8, 6, 8, 6, 8, 8, 9, 9, 8, 8, 9, 4, 9])\n",
    "xy = np.vstack((x,y)).T\n",
    "\n",
    "x_new, y_new = np.mgrid[75:200:1000j,-50:150:1000j]\n",
    "z_new = griddata(xy,z,(x_new,y_new),method='nearest')\n",
    "ax = plt.subplot(111,projection='3d')\n",
    "ax.plot_surface(x_new,y_new,z_new,cmap=plt.get_cmap('rainbow'))\n",
    "plt.show()"
   ]
  },
  {
   "cell_type": "markdown",
   "metadata": {},
   "source": [
    "# 例题4 拟合\n",
    "![title](pic\\3-4.4.png)"
   ]
  },
  {
   "cell_type": "code",
   "execution_count": 10,
   "metadata": {},
   "outputs": [
    {
     "name": "stdout",
     "output_type": "stream",
     "text": [
      "拟合二次多项式的从高次幂到低次幂系数分别为: [0.04973322 0.01930075 0.68817946]\n"
     ]
    },
    {
     "data": {
      "image/png": "[encoded data removed]",
      "text/plain": [
       "<Figure size 432x288 with 1 Axes>"
      ]
     },
     "metadata": {
      "needs_background": "light"
     },
     "output_type": "display_data"
    }
   ],
   "source": [
    "import numpy as np\n",
    "from numpy import polyfit, polyval\n",
    "import matplotlib.pyplot as plt\n",
    "x = np.array([19, 25, 31, 38, 44])\n",
    "y = np.array([19.0, 32.3, 49.0, 73.3, 97.8])\n",
    "p = polyfit(x,y,2) # 拟合2次多项式\n",
    "print(\"拟合二次多项式的从高次幂到低次幂系数分别为:\",p)\n",
    "y_fit = polyval(p,np.arange(20,45,5))\n",
    "plt.plot(x,y,'*',x,y_fit,'o')\n",
    "plt.show()"
   ]
  },
  {
   "cell_type": "markdown",
   "metadata": {},
   "source": [
    "# 例题5 拟合\n",
    "![title](pic\\3-4.5.png)"
   ]
  },
  {
   "cell_type": "code",
   "execution_count": 13,
   "metadata": {},
   "outputs": [
    {
     "data": {
      "text/plain": [
       "[<matplotlib.lines.Line2D at 0x20bdfaf6d88>]"
      ]
     },
     "execution_count": 13,
     "metadata": {},
     "output_type": "execute_result"
    },
    {
     "data": {
      "image/png": "[encoded data removed]",
      "text/plain": [
       "<Figure size 432x288 with 1 Axes>"
      ]
     },
     "metadata": {
      "needs_background": "light"
     },
     "output_type": "display_data"
    }
   ],
   "source": [
    "import numpy as np\n",
    "from numpy import polyfit, polyval\n",
    "import matplotlib.pyplot as plt\n",
    "x = np.arange(1990,1997)\n",
    "y = np.array([70, 122, 144, 152, 174, 196, 202])\n",
    "plt.scatter(x,y)\n",
    "\n",
    "p = polyfit(x,y,1) # 拟合1次多项式\n",
    "print(\"拟合二次多项式的从高次幂到低次幂系数分别为:\",p)\n",
    "x_0 = np.array([1997,1998])\n",
    "y_fit = polyval(p,x_0)\n",
    "plt.plot(x_0, y_fit,'ro')\n"
   ]
  },
  {
   "cell_type": "markdown",
   "metadata": {},
   "source": [
    "# 习题 1\n",
    "![title](pic/3-4.6.png)"
   ]
  },
  {
   "cell_type": "code",
   "execution_count": null,
   "metadata": {},
   "outputs": [],
   "source": []
  },
  {
   "cell_type": "markdown",
   "metadata": {},
   "source": [
    "# 习题 2\n",
    "![title](pic\\3-4.7.png)"
   ]
  },
  {
   "cell_type": "code",
   "execution_count": null,
   "metadata": {},
   "outputs": [],
   "source": []
  },
  {
   "cell_type": "markdown",
   "metadata": {},
   "source": [
    "# 习题 3\n",
    "![title](pic\\3-4.8.png)"
   ]
  },
  {
   "cell_type": "code",
   "execution_count": null,
   "metadata": {},
   "outputs": [],
   "source": []
  }
 ],
 "metadata": {
  "kernelspec": {
   "display_name": "Python 3",
   "language": "python",
   "name": "python3"
  },
  "language_info": {
   "codemirror_mode": {
    "name": "ipython",
    "version": 3
   },
   "file_extension": ".py",
   "mimetype": "text/x-python",
   "name": "python",
   "nbconvert_exporter": "python",
   "pygments_lexer": "ipython3",
   "version": "3.7.7"
  }
 },
 "nbformat": 4,
 "nbformat_minor": 4
}
